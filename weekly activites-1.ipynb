{
 "cells": [
  {
   "cell_type": "markdown",
   "metadata": {
    "id": "4z_Z-K1tlrS7"
   },
   "source": [
    "## 1. Complete the following code to find the area of an equilateral triangle. Output should be as displayed"
   ]
  },
  {
   "cell_type": "code",
   "execution_count": 21,
   "metadata": {
    "id": "rP2qFD_SlrS_"
   },
   "outputs": [
    {
     "name": "stdout",
     "output_type": "stream",
     "text": [
      "Enter the side of the equilateral triangle: 4\n",
      "area of equilateral triangle with side 4.0 = 6.928203230275509\n"
     ]
    }
   ],
   "source": [
    "import math\n",
    "side = float(input(\"Enter the side of the equilateral triangle: \"))\n",
    "area = ((math.sqrt(3))/4)*pow(side,2)\n",
    "print(\"area of equilateral triangle with side\",side,'=',area)"
   ]
  },
  {
   "cell_type": "markdown",
   "metadata": {
    "id": "TjVKjIfclrTB"
   },
   "source": [
    "## 2. Write a program to count the number of each characters in a string"
   ]
  },
  {
   "cell_type": "code",
   "execution_count": 22,
   "metadata": {
    "id": "JY5seVUQlrTC"
   },
   "outputs": [
    {
     "name": "stdout",
     "output_type": "stream",
     "text": [
      "Enter a string: amma\n",
      "a=2\n",
      "m=2\n"
     ]
    }
   ],
   "source": [
    "strng = input(\"Enter a string: \")\n",
    "lst1 = []\n",
    "for i in strng:\n",
    "    if i not in lst1:\n",
    "        lst1.append(i)\n",
    "        \n",
    "for j in lst1:\n",
    "    print(j,strng.count(j), sep = \"=\")"
   ]
  },
  {
   "cell_type": "markdown",
   "metadata": {
    "id": "l3LCULfklrTD"
   },
   "source": [
    "## Write a program to find the area and perimeter of a rectangle using functions"
   ]
  },
  {
   "cell_type": "code",
   "execution_count": 23,
   "metadata": {
    "id": "8haQD8edlrTD"
   },
   "outputs": [
    {
     "name": "stdout",
     "output_type": "stream",
     "text": [
      "Length : 1\n",
      "Width : 3\n",
      "Area of Rectangle :  3.0\n",
      "Perimeter of Rectangle :  8.0\n"
     ]
    }
   ],
   "source": [
    "def area (a,b):\n",
    "    return(a*b)\n",
    "def perimeter (a,b):\n",
    "    return (2*(a+b))\n",
    "\n",
    "l=float(input(\"Length : \"))\n",
    "w=float(input(\"Width : \"))\n",
    "print(\"Area of Rectangle : \",area(l,w) )\n",
    "print(\"Perimeter of Rectangle : \",perimeter(l,w))"
   ]
  },
  {
   "cell_type": "markdown",
   "metadata": {
    "id": "JHK4ZdsflrTE"
   },
   "source": [
    "## 4. Write a program to print the fibonacci series till a specified number"
   ]
  },
  {
   "cell_type": "code",
   "execution_count": 24,
   "metadata": {
    "id": "LyBEj-4SlrTE"
   },
   "outputs": [
    {
     "name": "stdout",
     "output_type": "stream",
     "text": [
      "Enter the Range : 8\n",
      "0 1 1 2 3 5 8 13 "
     ]
    }
   ],
   "source": [
    "num = int(input(\"Enter the Range : \"))\n",
    "First_val = 0\n",
    "Second_val = 1\n",
    "for n in range(0, num):\n",
    "           if(n <= 1):\n",
    "                      next = n\n",
    "           else:\n",
    "                      next = First_val + Second_val\n",
    "                      First_val = Second_val\n",
    "                      Second_val = next\n",
    "           print(next,end=\" \")"
   ]
  },
  {
   "cell_type": "markdown",
   "metadata": {
    "id": "u4uBUcQKlrTE"
   },
   "source": [
    "## 5. Complete the following code to find the minimum of 3 number using cinditional statements. Output should be as displayed"
   ]
  },
  {
   "cell_type": "code",
   "execution_count": 25,
   "metadata": {
    "id": "XdZwrZjIlrTF"
   },
   "outputs": [
    {
     "name": "stdout",
     "output_type": "stream",
     "text": [
      "Enter three numbers followed by  : 55 100 99\n",
      "First number : 55\n",
      "Second number : 100\n",
      "Third number : 99\n",
      "55  is smallest\n"
     ]
    }
   ],
   "source": [
    "a,b,c = input(\"Enter three numbers followed by  : \").split()\n",
    "\n",
    "a=int(a)\n",
    "b=int(b)\n",
    "c=int(c)\n",
    "\n",
    "print(\"First number :\",a)\n",
    "print(\"Second number :\",b)\n",
    "print(\"Third number :\",c)\n",
    "if (a==b==c):\n",
    "    print(\"Entered numbers are equal!!!\")\n",
    "if a < b and a < c:\n",
    "    print(a,\" is smallest\")\n",
    "if b < a and b < c :\n",
    "    print(b,\" is smallest\")\n",
    "if c < a and c < b :\n",
    "    print(c,\" is smallest\")"
   ]
  },
  {
   "cell_type": "markdown",
   "metadata": {
    "id": "aR_CnToWlrTG"
   },
   "source": [
    "## 6. Write a program to print star pyramind. The number of rows should be taken as input from the user"
   ]
  },
  {
   "cell_type": "code",
   "execution_count": 26,
   "metadata": {
    "id": "M37A-buplrTG"
   },
   "outputs": [
    {
     "name": "stdout",
     "output_type": "stream",
     "text": [
      "Enter the number of rows 8\n",
      "* \n",
      "* * \n",
      "* * * \n",
      "* * * * \n",
      "* * * * * \n",
      "* * * * * * \n",
      "* * * * * * * \n",
      "* * * * * * * * \n"
     ]
    }
   ],
   "source": [
    "rows = int(input('Enter the number of rows '))\n",
    "\n",
    "for i in range(0,rows):\n",
    "    for j in range(0,i+1):\n",
    "      print(\"*\", end=' ')\n",
    "    print('')"
   ]
  },
  {
   "cell_type": "markdown",
   "metadata": {
    "id": "tlY6aFWBlrTH"
   },
   "source": [
    "## 7. Complete the following code to convert hour into seconds. Output should be as displayed"
   ]
  },
  {
   "cell_type": "code",
   "execution_count": 14,
   "metadata": {
    "id": "YOZQFk7FlrTH"
   },
   "outputs": [
    {
     "name": "stdout",
     "output_type": "stream",
     "text": [
      "Please enter hours: 4\n",
      "4  Hour is equal to 14400  Seconds\n"
     ]
    }
   ],
   "source": [
    "def to_seconds(t):\n",
    "    return(t * 60 * 60)\n",
    "time_in_hours = int(input(\"Please enter hours: \"))\n",
    "print(time_in_hours ,\" Hour is equal to\" ,to_seconds(time_in_hours) ,\" Seconds\")"
   ]
  },
  {
   "cell_type": "markdown",
   "metadata": {
    "id": "CnYorNiLlrTI"
   },
   "source": [
    "## 8. Write a program to print multiplication table as below"
   ]
  },
  {
   "cell_type": "code",
   "execution_count": 15,
   "metadata": {
    "id": "dPQqDPuDlrTI"
   },
   "outputs": [
    {
     "name": "stdout",
     "output_type": "stream",
     "text": [
      "Display multiplication table of 5\n",
      "range 9\n",
      "5 x 1 = 5\n",
      "5 x 2 = 10\n",
      "5 x 3 = 15\n",
      "5 x 4 = 20\n",
      "5 x 5 = 25\n",
      "5 x 6 = 30\n",
      "5 x 7 = 35\n",
      "5 x 8 = 40\n",
      "5 x 9 = 45\n"
     ]
    }
   ],
   "source": [
    "num = int(input(\"Display multiplication table of \"))\n",
    "rng= int(input(\"range \"))\n",
    "\n",
    "for i in range(1, rng+1):\n",
    "   print(num, 'x', i, '=', num*i)"
   ]
  },
  {
   "cell_type": "markdown",
   "metadata": {
    "id": "Fiaez8iblrTI"
   },
   "source": [
    "## 9. Write a program to take your 5 favorite food as list and print each as 'I like Biriyani'"
   ]
  },
  {
   "cell_type": "code",
   "execution_count": 27,
   "metadata": {
    "id": "39W1zFX7lrTJ"
   },
   "outputs": [
    {
     "name": "stdout",
     "output_type": "stream",
     "text": [
      "Enter you favorite food: 1\n",
      "Enter you favorite food: 3\n",
      "Enter you favorite food: \n",
      "Enter you favorite food: 5\n",
      "Enter you favorite food: 4\n",
      "i like 1\n",
      "i like 3\n",
      "i like \n",
      "i like 5\n",
      "i like 4\n"
     ]
    }
   ],
   "source": [
    "food_lst=[]\n",
    "\n",
    "for i in range(5):\n",
    "    food=input(\"Enter you favorite food: \")\n",
    "    food_lst.append(food)\n",
    "for j in range(5):\n",
    "    print(\"i like\",food_lst[j])"
   ]
  },
  {
   "cell_type": "markdown",
   "metadata": {
    "id": "3vlcDNNEP7d_"
   },
   "source": [
    "## 10. Find error(s) in the following code(if any) and rewrite code.\n",
    "\n"
   ]
  },
  {
   "cell_type": "code",
   "execution_count": 28,
   "metadata": {
    "id": "coREkcY3P9sG"
   },
   "outputs": [
    {
     "name": "stdout",
     "output_type": "stream",
     "text": [
      "Enter value of x:4\n",
      "They are unequal\n",
      "They are unequal\n",
      "They are unequal\n",
      "They are unequal\n",
      "They are equal\n",
      "They are unequal\n",
      "They are unequal\n",
      "They are unequal\n",
      "They are unequal\n",
      "They are unequal\n"
     ]
    }
   ],
   "source": [
    "x= int(input(\"Enter value of x:\"))\n",
    "for y in range (0,10):\n",
    "     if x==y:\n",
    "          print(\"They are equal\")\n",
    "     else:\n",
    "         print( \"They are unequal\")"
   ]
  },
  {
   "cell_type": "code",
   "execution_count": null,
   "metadata": {},
   "outputs": [],
   "source": []
  }
 ],
 "metadata": {
  "colab": {
   "collapsed_sections": [],
   "name": "Q&A activity student file.ipynb",
   "provenance": []
  },
  "kernelspec": {
   "display_name": "Python 3",
   "language": "python",
   "name": "python3"
  },
  "language_info": {
   "codemirror_mode": {
    "name": "ipython",
    "version": 3
   },
   "file_extension": ".py",
   "mimetype": "text/x-python",
   "name": "python",
   "nbconvert_exporter": "python",
   "pygments_lexer": "ipython3",
   "version": "3.8.8"
  }
 },
 "nbformat": 4,
 "nbformat_minor": 1
}
