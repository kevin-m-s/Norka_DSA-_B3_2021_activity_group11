{
 "cells": [
  {
   "cell_type": "markdown",
   "metadata": {
    "id": "4z_Z-K1tlrS7"
   },
   "source": [
    "## 1. Complete the following code to find the area of an equilateral triangle. Output should be as displayed"
   ]
  },
  {
   "cell_type": "code",
   "execution_count": 5,
   "metadata": {
    "id": "rP2qFD_SlrS_"
   },
   "outputs": [
    {
     "name": "stdout",
     "output_type": "stream",
     "text": [
      "Enter the side of the equilateral triangle: 4\n",
      "area of equilateral triangle with side 4.0 = 6.93\n"
     ]
    }
   ],
   "source": [
    "import math\n",
    "side = float(input(\"Enter the side of the equilateral triangle: \"))\n",
    "area = ((math.sqrt(3))/4)*pow(side,2)\n",
    "print(\"area of equilateral triangle with side\",side,'=',round(area,2))"
   ]
  },
  {
   "cell_type": "markdown",
   "metadata": {
    "id": "TjVKjIfclrTB"
   },
   "source": [
    "## 2. Write a program to count the number of each characters in a string"
   ]
  },
  {
   "cell_type": "code",
   "execution_count": 4,
   "metadata": {
    "id": "JY5seVUQlrTC"
   },
   "outputs": [
    {
     "name": "stdout",
     "output_type": "stream",
     "text": [
      "Enter a string: MalAyaLam\n",
      "number of m is = 2\n",
      "number of a is = 4\n",
      "number of l is = 2\n",
      "number of y is = 1\n"
     ]
    }
   ],
   "source": [
    "string = input(\"Enter a string: \").lower()\n",
    "lst = []\n",
    "for char in string:\n",
    "    if char not in lst:\n",
    "        lst.append(char)\n",
    "for item in lst:\n",
    "    print(\"number of\",item,\"is =\",string.count(item))"
   ]
  },
  {
   "cell_type": "markdown",
   "metadata": {
    "id": "l3LCULfklrTD"
   },
   "source": [
    "## Write a program to find the area and perimeter of a rectangle using functions"
   ]
  },
  {
   "cell_type": "code",
   "execution_count": 3,
   "metadata": {
    "id": "8haQD8edlrTD"
   },
   "outputs": [
    {
     "name": "stdout",
     "output_type": "stream",
     "text": [
      "Length : 3\n",
      "Width : 4\n",
      "Area of Rectangle :  12.0\n",
      "Perimeter of Rectangle :  14.0\n"
     ]
    }
   ],
   "source": [
    "def area (a,b):\n",
    "    return(a*b)\n",
    "def perimeter (a,b):\n",
    "    return (2*(a+b))\n",
    "\n",
    "l=float(input(\"Length : \"))\n",
    "w=float(input(\"Width : \"))\n",
    "print(\"Area of Rectangle : \",area(l,w) )\n",
    "print(\"Perimeter of Rectangle : \",perimeter(l,w))"
   ]
  },
  {
   "cell_type": "markdown",
   "metadata": {
    "id": "JHK4ZdsflrTE"
   },
   "source": [
    "## 4. Write a program to print the fibonacci series till a specified number"
   ]
  },
  {
   "cell_type": "code",
   "execution_count": 2,
   "metadata": {
    "id": "LyBEj-4SlrTE"
   },
   "outputs": [
    {
     "name": "stdout",
     "output_type": "stream",
     "text": [
      "How many numbers 5\n",
      "Fibonacci series:\n",
      "0 1 1 2 3 "
     ]
    }
   ],
   "source": [
    "numbers = int(input(\"How many numbers \"))\n",
    "x1,x2 = 0, 1\n",
    "count = 0\n",
    "if numbers <= 0:\n",
    "   print(\"Please enter a positive integer\")\n",
    "elif numbers == 1:\n",
    "   print(\"Fibonacci series upto\",numbers,\":\")\n",
    "   print(x1)\n",
    "else:\n",
    "   print(\"Fibonacci series:\")\n",
    "   while count < numbers:\n",
    "    print(x1,end=\" \")\n",
    "    xth = x1 + x2\n",
    "    x1 = x2\n",
    "    x2 = xth\n",
    "    count += 1   "
   ]
  },
  {
   "cell_type": "markdown",
   "metadata": {
    "id": "u4uBUcQKlrTE"
   },
   "source": [
    "## 5. Complete the following code to find the minimum of 3 number using cinditional statements. Output should be as displayed"
   ]
  },
  {
   "cell_type": "code",
   "execution_count": 1,
   "metadata": {
    "id": "XdZwrZjIlrTF"
   },
   "outputs": [
    {
     "name": "stdout",
     "output_type": "stream",
     "text": [
      "Enter three numbers followed by  : 10 19 5\n",
      "First number : 10\n",
      "Second number : 19\n",
      "Third number : 5\n",
      "5  is smallest\n"
     ]
    }
   ],
   "source": [
    "a,b,c = input(\"Enter three numbers followed by  : \").split()\n",
    "\n",
    "a=int(a)\n",
    "b=int(b)\n",
    "c=int(c)\n",
    "\n",
    "print(\"First number :\",a)\n",
    "print(\"Second number :\",b)\n",
    "print(\"Third number :\",c)\n",
    "if(a==b==c):\n",
    "    print(\"Entered numbers are equal!!!\")\n",
    "elif(a<b and a<c):\n",
    "    print(a,\" is smallest\")\n",
    "elif(b<a and b<c):\n",
    "    print(b,\" is smallest\")\n",
    "else:\n",
    "    print(c,\" is smallest\")"
   ]
  },
  {
   "cell_type": "markdown",
   "metadata": {
    "id": "aR_CnToWlrTG"
   },
   "source": [
    "## 6. Write a program to print star pyramind. The number of rows should be taken as input from the user"
   ]
  },
  {
   "cell_type": "code",
   "execution_count": 7,
   "metadata": {
    "id": "M37A-buplrTG"
   },
   "outputs": [
    {
     "name": "stdout",
     "output_type": "stream",
     "text": [
      "Enter a number:5\n",
      "* \n",
      "* * \n",
      "* * * \n",
      "* * * * \n",
      "* * * * * \n"
     ]
    }
   ],
   "source": [
    "star=int(input(\"Enter a number:\"))\n",
    "for i in range(1,star+1):\n",
    "    print(\"* \"*i)\n",
    "    "
   ]
  },
  {
   "cell_type": "markdown",
   "metadata": {
    "id": "tlY6aFWBlrTH"
   },
   "source": [
    "## 7. Complete the following code to convert hour into seconds. Output should be as displayed"
   ]
  },
  {
   "cell_type": "code",
   "execution_count": 9,
   "metadata": {
    "id": "YOZQFk7FlrTH"
   },
   "outputs": [
    {
     "name": "stdout",
     "output_type": "stream",
     "text": [
      "Please enter hours: 2.5\n",
      "2.5  Hour is equal to 9000.0  Seconds\n"
     ]
    }
   ],
   "source": [
    "def to_seconds(t):\n",
    "    return(t * 60 * 60)\n",
    "time_in_hours = float(input(\"Please enter hours: \"))\n",
    "print(time_in_hours ,\" Hour is equal to\" ,to_seconds(time_in_hours) ,\" Seconds\")"
   ]
  },
  {
   "cell_type": "markdown",
   "metadata": {
    "id": "CnYorNiLlrTI"
   },
   "source": [
    "## 8. Write a program to print multiplication table as below"
   ]
  },
  {
   "cell_type": "code",
   "execution_count": 13,
   "metadata": {
    "id": "dPQqDPuDlrTI"
   },
   "outputs": [
    {
     "name": "stdout",
     "output_type": "stream",
     "text": [
      "Display multiplication table of 9\n",
      "multiplication table upto: 13\n",
      "Multiplication Table upto 13 for the number 9\n",
      "9 x 1 = 9\n",
      "9 x 2 = 18\n",
      "9 x 3 = 27\n",
      "9 x 4 = 36\n",
      "9 x 5 = 45\n",
      "9 x 6 = 54\n",
      "9 x 7 = 63\n",
      "9 x 8 = 72\n",
      "9 x 9 = 81\n",
      "9 x 10 = 90\n",
      "9 x 11 = 99\n",
      "9 x 12 = 108\n",
      "9 x 13 = 117\n"
     ]
    }
   ],
   "source": [
    "num = int(input(\"Display multiplication table of \"))\n",
    "h= int(input(\"multiplication table upto: \"))\n",
    "print(\"Multiplication Table upto\", h,\"for the number\", num)\n",
    "for i in range(1, h+1):\n",
    "   print(num, 'x', i, '=', num*i)"
   ]
  },
  {
   "cell_type": "markdown",
   "metadata": {
    "id": "Fiaez8iblrTI"
   },
   "source": [
    "## 9. Write a program to take your 5 favorite food as list and print each as 'I like Biriyani'"
   ]
  },
  {
   "cell_type": "code",
   "execution_count": 14,
   "metadata": {
    "id": "39W1zFX7lrTJ"
   },
   "outputs": [
    {
     "name": "stdout",
     "output_type": "stream",
     "text": [
      "Enter you favorite food: dosa\n",
      "Enter you favorite food: idli\n",
      "Enter you favorite food: biriyani\n",
      "Enter you favorite food: puttu\n",
      "Enter you favorite food: ice cream\n",
      "i like dosa\n",
      "i like idli\n",
      "i like biriyani\n",
      "i like puttu\n",
      "i like ice cream\n"
     ]
    }
   ],
   "source": [
    "food_lst=[]\n",
    "\n",
    "for i in range(5):\n",
    "    food=input(\"Enter you favorite food: \")\n",
    "    food_lst.append(food)\n",
    "for j in range(5):\n",
    "    print(\"i like\",food_lst[j])"
   ]
  },
  {
   "cell_type": "markdown",
   "metadata": {
    "id": "3vlcDNNEP7d_"
   },
   "source": [
    "## 10. Find error(s) in the following code(if any) and rewrite code.\n",
    "\n"
   ]
  },
  {
   "cell_type": "code",
   "execution_count": 15,
   "metadata": {
    "id": "coREkcY3P9sG"
   },
   "outputs": [
    {
     "name": "stdout",
     "output_type": "stream",
     "text": [
      "Enter value of x:4\n",
      "They are unequal\n",
      "They are unequal\n",
      "They are unequal\n",
      "They are unequal\n",
      "They are equal\n",
      "They are unequal\n",
      "They are unequal\n",
      "They are unequal\n",
      "They are unequal\n",
      "They are unequal\n"
     ]
    }
   ],
   "source": [
    "x= int(input(\"Enter value of x:\"))\n",
    "for y in range (0,10):\n",
    "     if x==y:\n",
    "          print(\"They are equal\")\n",
    "     else:\n",
    "         print( \"They are unequal\")"
   ]
  },
  {
   "cell_type": "code",
   "execution_count": 18,
   "metadata": {},
   "outputs": [],
   "source": [
    "#submitted by [Group11]-ARJUN. P,Kevin M,Shilpa Shibu,Sreelekshmi M K,Roopa Thomas"
   ]
  },
  {
   "cell_type": "code",
   "execution_count": null,
   "metadata": {},
   "outputs": [],
   "source": []
  }
 ],
 "metadata": {
  "colab": {
   "collapsed_sections": [],
   "name": "Q&A activity student file.ipynb",
   "provenance": []
  },
  "kernelspec": {
   "display_name": "Python 3",
   "language": "python",
   "name": "python3"
  },
  "language_info": {
   "codemirror_mode": {
    "name": "ipython",
    "version": 3
   },
   "file_extension": ".py",
   "mimetype": "text/x-python",
   "name": "python",
   "nbconvert_exporter": "python",
   "pygments_lexer": "ipython3",
   "version": "3.8.8"
  }
 },
 "nbformat": 4,
 "nbformat_minor": 1
}
