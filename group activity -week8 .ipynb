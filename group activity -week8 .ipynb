{
 "cells": [
  {
   "cell_type": "markdown",
   "id": "ad0abc56",
   "metadata": {},
   "source": [
    "# Week 8-Q&A Activity on Testing of Hypothesis\n",
    "1. Carry out descriptive analytics on the dataset.\n",
    "2. Check whether female and male students scored the same marks.\n",
    "3. Whether test preparation helps the students?"
   ]
  },
  {
   "cell_type": "code",
   "execution_count": 1,
   "id": "61c67dff",
   "metadata": {},
   "outputs": [],
   "source": [
    "#importing pandas,numply,matplotlib.pyplot,scipy,seaborn libaries\n",
    "import pandas as pd\n",
    "import numpy as np\n",
    "import scipy\n",
    "import matplotlib.pyplot as plt\n",
    "import seaborn as sns"
   ]
  },
  {
   "cell_type": "code",
   "execution_count": 2,
   "id": "6714e625",
   "metadata": {},
   "outputs": [],
   "source": [
    "#Reading the dataset to the python environment\n",
    "data=pd.read_csv('Week_8_Q&A_dataset.csv')"
   ]
  },
  {
   "cell_type": "code",
   "execution_count": 3,
   "id": "68a99d7a",
   "metadata": {},
   "outputs": [
    {
     "data": {
      "text/html": [
       "<div>\n",
       "<style scoped>\n",
       "    .dataframe tbody tr th:only-of-type {\n",
       "        vertical-align: middle;\n",
       "    }\n",
       "\n",
       "    .dataframe tbody tr th {\n",
       "        vertical-align: top;\n",
       "    }\n",
       "\n",
       "    .dataframe thead th {\n",
       "        text-align: right;\n",
       "    }\n",
       "</style>\n",
       "<table border=\"1\" class=\"dataframe\">\n",
       "  <thead>\n",
       "    <tr style=\"text-align: right;\">\n",
       "      <th></th>\n",
       "      <th>Gender</th>\n",
       "      <th>Test preparation</th>\n",
       "      <th>Total Marks</th>\n",
       "    </tr>\n",
       "  </thead>\n",
       "  <tbody>\n",
       "    <tr>\n",
       "      <th>0</th>\n",
       "      <td>male</td>\n",
       "      <td>none</td>\n",
       "      <td>14</td>\n",
       "    </tr>\n",
       "    <tr>\n",
       "      <th>1</th>\n",
       "      <td>female</td>\n",
       "      <td>none</td>\n",
       "      <td>28</td>\n",
       "    </tr>\n",
       "    <tr>\n",
       "      <th>2</th>\n",
       "      <td>female</td>\n",
       "      <td>none</td>\n",
       "      <td>18</td>\n",
       "    </tr>\n",
       "    <tr>\n",
       "      <th>3</th>\n",
       "      <td>female</td>\n",
       "      <td>none</td>\n",
       "      <td>48</td>\n",
       "    </tr>\n",
       "    <tr>\n",
       "      <th>4</th>\n",
       "      <td>female</td>\n",
       "      <td>none</td>\n",
       "      <td>21</td>\n",
       "    </tr>\n",
       "  </tbody>\n",
       "</table>\n",
       "</div>"
      ],
      "text/plain": [
       "   Gender Test preparation  Total Marks\n",
       "0    male             none           14\n",
       "1  female             none           28\n",
       "2  female             none           18\n",
       "3  female             none           48\n",
       "4  female             none           21"
      ]
     },
     "execution_count": 3,
     "metadata": {},
     "output_type": "execute_result"
    }
   ],
   "source": [
    "#displaying  top 5  rows of the dataset\n",
    "data.head()"
   ]
  },
  {
   "cell_type": "code",
   "execution_count": 4,
   "id": "f321d140",
   "metadata": {},
   "outputs": [
    {
     "name": "stdout",
     "output_type": "stream",
     "text": [
      "<class 'pandas.core.frame.DataFrame'>\n",
      "RangeIndex: 28 entries, 0 to 27\n",
      "Data columns (total 3 columns):\n",
      " #   Column            Non-Null Count  Dtype \n",
      "---  ------            --------------  ----- \n",
      " 0   Gender            28 non-null     object\n",
      " 1   Test preparation  28 non-null     object\n",
      " 2   Total Marks       28 non-null     int64 \n",
      "dtypes: int64(1), object(2)\n",
      "memory usage: 800.0+ bytes\n"
     ]
    }
   ],
   "source": [
    "#To know data types of each columns and checking for null values in the columns\n",
    "data.info()"
   ]
  },
  {
   "cell_type": "code",
   "execution_count": 5,
   "id": "c30ed2af",
   "metadata": {},
   "outputs": [
    {
     "data": {
      "text/plain": [
       "Gender              0\n",
       "Test preparation    0\n",
       "Total Marks         0\n",
       "dtype: int64"
      ]
     },
     "execution_count": 5,
     "metadata": {},
     "output_type": "execute_result"
    }
   ],
   "source": [
    "#Check for the null values present in each column of  dataset using 'isnull().sum()' function\n",
    "data.isnull().sum()"
   ]
  },
  {
   "cell_type": "markdown",
   "id": "cf94fe3c",
   "metadata": {},
   "source": [
    "Find-\n",
    "\n",
    "No Null values\n"
   ]
  },
  {
   "cell_type": "markdown",
   "id": "12eb6993",
   "metadata": {},
   "source": [
    "#### 1.Carry out descriptive analytics on the dataset"
   ]
  },
  {
   "cell_type": "code",
   "execution_count": 6,
   "id": "ed1c01c8",
   "metadata": {},
   "outputs": [
    {
     "data": {
      "text/html": [
       "<div>\n",
       "<style scoped>\n",
       "    .dataframe tbody tr th:only-of-type {\n",
       "        vertical-align: middle;\n",
       "    }\n",
       "\n",
       "    .dataframe tbody tr th {\n",
       "        vertical-align: top;\n",
       "    }\n",
       "\n",
       "    .dataframe thead th {\n",
       "        text-align: right;\n",
       "    }\n",
       "</style>\n",
       "<table border=\"1\" class=\"dataframe\">\n",
       "  <thead>\n",
       "    <tr style=\"text-align: right;\">\n",
       "      <th></th>\n",
       "      <th>Total Marks</th>\n",
       "    </tr>\n",
       "  </thead>\n",
       "  <tbody>\n",
       "    <tr>\n",
       "      <th>count</th>\n",
       "      <td>28.000000</td>\n",
       "    </tr>\n",
       "    <tr>\n",
       "      <th>mean</th>\n",
       "      <td>32.321429</td>\n",
       "    </tr>\n",
       "    <tr>\n",
       "      <th>std</th>\n",
       "      <td>12.454520</td>\n",
       "    </tr>\n",
       "    <tr>\n",
       "      <th>min</th>\n",
       "      <td>12.000000</td>\n",
       "    </tr>\n",
       "    <tr>\n",
       "      <th>25%</th>\n",
       "      <td>22.500000</td>\n",
       "    </tr>\n",
       "    <tr>\n",
       "      <th>50%</th>\n",
       "      <td>33.000000</td>\n",
       "    </tr>\n",
       "    <tr>\n",
       "      <th>75%</th>\n",
       "      <td>43.250000</td>\n",
       "    </tr>\n",
       "    <tr>\n",
       "      <th>max</th>\n",
       "      <td>50.000000</td>\n",
       "    </tr>\n",
       "  </tbody>\n",
       "</table>\n",
       "</div>"
      ],
      "text/plain": [
       "       Total Marks\n",
       "count    28.000000\n",
       "mean     32.321429\n",
       "std      12.454520\n",
       "min      12.000000\n",
       "25%      22.500000\n",
       "50%      33.000000\n",
       "75%      43.250000\n",
       "max      50.000000"
      ]
     },
     "execution_count": 6,
     "metadata": {},
     "output_type": "execute_result"
    }
   ],
   "source": [
    "# to know  statistical summary of integer datatype columns \n",
    "data.describe()"
   ]
  },
  {
   "cell_type": "markdown",
   "id": "d70a6d27",
   "metadata": {},
   "source": [
    "statistical summary for the total marks -\n",
    "\n",
    "    Mean -32.32\n",
    "    Standard Deviation-12.45\n",
    "    Minimum Mark-12\n",
    "    25% students scored more than 43 marks\n",
    "    50% students scored more than 33 marks\n",
    "    75% students scored more than 22.5 marks\n"
   ]
  },
  {
   "cell_type": "code",
   "execution_count": 7,
   "id": "a4685d0e",
   "metadata": {},
   "outputs": [
    {
     "data": {
      "text/plain": [
       "female    16\n",
       "male      12\n",
       "Name: Gender, dtype: int64"
      ]
     },
     "execution_count": 7,
     "metadata": {},
     "output_type": "execute_result"
    }
   ],
   "source": [
    "data['Gender'].value_counts()"
   ]
  },
  {
   "cell_type": "markdown",
   "id": "471edd9e",
   "metadata": {},
   "source": [
    "Find-\n",
    "\n",
    "16 females and \n",
    "\n",
    "12 males   in the data set\n",
    "\n"
   ]
  },
  {
   "cell_type": "code",
   "execution_count": 8,
   "id": "c006da9f",
   "metadata": {},
   "outputs": [
    {
     "data": {
      "text/html": [
       "<div>\n",
       "<style scoped>\n",
       "    .dataframe tbody tr th:only-of-type {\n",
       "        vertical-align: middle;\n",
       "    }\n",
       "\n",
       "    .dataframe tbody tr th {\n",
       "        vertical-align: top;\n",
       "    }\n",
       "\n",
       "    .dataframe thead tr th {\n",
       "        text-align: left;\n",
       "    }\n",
       "\n",
       "    .dataframe thead tr:last-of-type th {\n",
       "        text-align: right;\n",
       "    }\n",
       "</style>\n",
       "<table border=\"1\" class=\"dataframe\">\n",
       "  <thead>\n",
       "    <tr>\n",
       "      <th></th>\n",
       "      <th colspan=\"8\" halign=\"left\">Total Marks</th>\n",
       "    </tr>\n",
       "    <tr>\n",
       "      <th></th>\n",
       "      <th>count</th>\n",
       "      <th>mean</th>\n",
       "      <th>std</th>\n",
       "      <th>min</th>\n",
       "      <th>25%</th>\n",
       "      <th>50%</th>\n",
       "      <th>75%</th>\n",
       "      <th>max</th>\n",
       "    </tr>\n",
       "    <tr>\n",
       "      <th>Gender</th>\n",
       "      <th></th>\n",
       "      <th></th>\n",
       "      <th></th>\n",
       "      <th></th>\n",
       "      <th></th>\n",
       "      <th></th>\n",
       "      <th></th>\n",
       "      <th></th>\n",
       "    </tr>\n",
       "  </thead>\n",
       "  <tbody>\n",
       "    <tr>\n",
       "      <th>female</th>\n",
       "      <td>16.0</td>\n",
       "      <td>33.750000</td>\n",
       "      <td>12.865976</td>\n",
       "      <td>12.0</td>\n",
       "      <td>25.50</td>\n",
       "      <td>39.0</td>\n",
       "      <td>43.50</td>\n",
       "      <td>50.0</td>\n",
       "    </tr>\n",
       "    <tr>\n",
       "      <th>male</th>\n",
       "      <td>12.0</td>\n",
       "      <td>30.416667</td>\n",
       "      <td>12.168950</td>\n",
       "      <td>14.0</td>\n",
       "      <td>21.75</td>\n",
       "      <td>29.0</td>\n",
       "      <td>43.25</td>\n",
       "      <td>47.0</td>\n",
       "    </tr>\n",
       "  </tbody>\n",
       "</table>\n",
       "</div>"
      ],
      "text/plain": [
       "       Total Marks                                                      \n",
       "             count       mean        std   min    25%   50%    75%   max\n",
       "Gender                                                                  \n",
       "female        16.0  33.750000  12.865976  12.0  25.50  39.0  43.50  50.0\n",
       "male          12.0  30.416667  12.168950  14.0  21.75  29.0  43.25  47.0"
      ]
     },
     "execution_count": 8,
     "metadata": {},
     "output_type": "execute_result"
    }
   ],
   "source": [
    "data.groupby('Gender').describe()"
   ]
  },
  {
   "cell_type": "code",
   "execution_count": 10,
   "id": "42b1f4aa",
   "metadata": {},
   "outputs": [
    {
     "data": {
      "text/plain": [
       "Gender\n",
       "male      30.416667\n",
       "female    33.750000\n",
       "Name: Total Marks, dtype: float64"
      ]
     },
     "execution_count": 10,
     "metadata": {},
     "output_type": "execute_result"
    }
   ],
   "source": [
    "#average of total marks gender wise\n",
    "data.groupby('Gender').mean()['Total Marks'].sort_values()"
   ]
  },
  {
   "cell_type": "code",
   "execution_count": 11,
   "id": "f6d59f25",
   "metadata": {},
   "outputs": [
    {
     "data": {
      "image/png": "[encoded data removed]",
      "text/plain": [
       "<Figure size 720x576 with 1 Axes>"
      ]
     },
     "metadata": {
      "needs_background": "light"
     },
     "output_type": "display_data"
    }
   ],
   "source": [
    "plt.figure(figsize=(10,8))\n",
    "sns.barplot(x=\"Gender\",y=\"Total Marks\",data=data)\n",
    "plt.show()"
   ]
  },
  {
   "cell_type": "code",
   "execution_count": 13,
   "id": "df9c94f4",
   "metadata": {},
   "outputs": [
    {
     "data": {
      "text/plain": [
       "(11.999, 22.5]    7\n",
       "(22.5, 33.0]      7\n",
       "(33.0, 43.25]     7\n",
       "(43.25, 50.0]     7\n",
       "Name: Total Marks, dtype: int64"
      ]
     },
     "execution_count": 13,
     "metadata": {},
     "output_type": "execute_result"
    }
   ],
   "source": [
    "pd.qcut(data['Total Marks'], q=4).value_counts()"
   ]
  },
  {
   "cell_type": "markdown",
   "id": "f13a2de0",
   "metadata": {},
   "source": [
    "Insight:\n",
    "\n",
    "As per this table,7 students fell in the top 25 % range with a score of 43.25 to 50.\n"
   ]
  },
  {
   "cell_type": "code",
   "execution_count": 14,
   "id": "779dce2d",
   "metadata": {},
   "outputs": [
    {
     "data": {
      "text/plain": [
       "none         21\n",
       "completed     7\n",
       "Name: Test preparation, dtype: int64"
      ]
     },
     "execution_count": 14,
     "metadata": {},
     "output_type": "execute_result"
    }
   ],
   "source": [
    "#count of students who took  Test preparation \n",
    "data1=data['Test preparation'].value_counts()\n",
    "data1"
   ]
  },
  {
   "cell_type": "code",
   "execution_count": 15,
   "id": "0c4be1ea",
   "metadata": {},
   "outputs": [
    {
     "data": {
      "image/png": "[encoded data removed]",
      "text/plain": [
       "<Figure size 432x288 with 1 Axes>"
      ]
     },
     "metadata": {},
     "output_type": "display_data"
    }
   ],
   "source": [
    "#pie plot-Shows how many students took test preparation \n",
    "plt.title(\"Test preparation \")\n",
    "plt.pie(data1,labels=data1.index, autopct='%1.1f%%', startangle=90)\n",
    "plt.show()"
   ]
  },
  {
   "cell_type": "code",
   "execution_count": 16,
   "id": "ff927e0c",
   "metadata": {},
   "outputs": [
    {
     "data": {
      "image/png": "[encoded data removed]",
      "text/plain": [
       "<Figure size 432x288 with 1 Axes>"
      ]
     },
     "metadata": {
      "needs_background": "light"
     },
     "output_type": "display_data"
    }
   ],
   "source": [
    "#Count plot-Gender wise Test preparation participation count \n",
    "sns.countplot(x='Test preparation',data=data,hue='Gender')\n",
    "plt.show()"
   ]
  },
  {
   "cell_type": "code",
   "execution_count": 17,
   "id": "97ba4725",
   "metadata": {},
   "outputs": [
    {
     "data": {
      "text/html": [
       "<div>\n",
       "<style scoped>\n",
       "    .dataframe tbody tr th:only-of-type {\n",
       "        vertical-align: middle;\n",
       "    }\n",
       "\n",
       "    .dataframe tbody tr th {\n",
       "        vertical-align: top;\n",
       "    }\n",
       "\n",
       "    .dataframe thead tr th {\n",
       "        text-align: left;\n",
       "    }\n",
       "\n",
       "    .dataframe thead tr:last-of-type th {\n",
       "        text-align: right;\n",
       "    }\n",
       "</style>\n",
       "<table border=\"1\" class=\"dataframe\">\n",
       "  <thead>\n",
       "    <tr>\n",
       "      <th></th>\n",
       "      <th colspan=\"8\" halign=\"left\">Total Marks</th>\n",
       "    </tr>\n",
       "    <tr>\n",
       "      <th></th>\n",
       "      <th>count</th>\n",
       "      <th>mean</th>\n",
       "      <th>std</th>\n",
       "      <th>min</th>\n",
       "      <th>25%</th>\n",
       "      <th>50%</th>\n",
       "      <th>75%</th>\n",
       "      <th>max</th>\n",
       "    </tr>\n",
       "    <tr>\n",
       "      <th>Test preparation</th>\n",
       "      <th></th>\n",
       "      <th></th>\n",
       "      <th></th>\n",
       "      <th></th>\n",
       "      <th></th>\n",
       "      <th></th>\n",
       "      <th></th>\n",
       "      <th></th>\n",
       "    </tr>\n",
       "  </thead>\n",
       "  <tbody>\n",
       "    <tr>\n",
       "      <th>completed</th>\n",
       "      <td>7.0</td>\n",
       "      <td>44.571429</td>\n",
       "      <td>3.359422</td>\n",
       "      <td>40.0</td>\n",
       "      <td>43.0</td>\n",
       "      <td>44.0</td>\n",
       "      <td>46.0</td>\n",
       "      <td>50.0</td>\n",
       "    </tr>\n",
       "    <tr>\n",
       "      <th>none</th>\n",
       "      <td>21.0</td>\n",
       "      <td>28.238095</td>\n",
       "      <td>11.661495</td>\n",
       "      <td>12.0</td>\n",
       "      <td>18.0</td>\n",
       "      <td>27.0</td>\n",
       "      <td>38.0</td>\n",
       "      <td>48.0</td>\n",
       "    </tr>\n",
       "  </tbody>\n",
       "</table>\n",
       "</div>"
      ],
      "text/plain": [
       "                 Total Marks                                                \\\n",
       "                       count       mean        std   min   25%   50%   75%   \n",
       "Test preparation                                                             \n",
       "completed                7.0  44.571429   3.359422  40.0  43.0  44.0  46.0   \n",
       "none                    21.0  28.238095  11.661495  12.0  18.0  27.0  38.0   \n",
       "\n",
       "                        \n",
       "                   max  \n",
       "Test preparation        \n",
       "completed         50.0  \n",
       "none              48.0  "
      ]
     },
     "execution_count": 17,
     "metadata": {},
     "output_type": "execute_result"
    }
   ],
   "source": [
    "data.groupby('Test preparation').describe()"
   ]
  },
  {
   "cell_type": "code",
   "execution_count": 18,
   "id": "4da258bf",
   "metadata": {},
   "outputs": [
    {
     "data": {
      "text/plain": [
       "Gender  Test preparation\n",
       "female  none                12\n",
       "        completed            4\n",
       "male    none                 9\n",
       "        completed            3\n",
       "Name: Test preparation, dtype: int64"
      ]
     },
     "execution_count": 18,
     "metadata": {},
     "output_type": "execute_result"
    }
   ],
   "source": [
    "#count of gender wise who participated in Test Preparation\n",
    "data2=data.groupby('Gender')['Test preparation'].value_counts()\n",
    "data2"
   ]
  },
  {
   "cell_type": "code",
   "execution_count": 22,
   "id": "a307868f",
   "metadata": {},
   "outputs": [
    {
     "data": {
      "image/png": "[encoded data removed]",
      "text/plain": [
       "<Figure size 432x288 with 1 Axes>"
      ]
     },
     "metadata": {},
     "output_type": "display_data"
    }
   ],
   "source": [
    "#pie plot -shows Gender wise participation in Test preparation\n",
    "TotalMarks=data.groupby('Gender')['Total Marks'].sum()\n",
    "TotalMarks\n",
    "labels=['female','male']\n",
    "plt.pie(TotalMarks,labels=labels,autopct='%1.1f%%',explode=[0.1,0.0])\n",
    "plt.show()"
   ]
  },
  {
   "cell_type": "code",
   "execution_count": 23,
   "id": "ae324c99",
   "metadata": {},
   "outputs": [
    {
     "data": {
      "text/plain": [
       "Test preparation\n",
       "none         28.238095\n",
       "completed    44.571429\n",
       "Name: Total Marks, dtype: float64"
      ]
     },
     "execution_count": 23,
     "metadata": {},
     "output_type": "execute_result"
    }
   ],
   "source": [
    "#average of total marks w.r.t Test preparation\n",
    "data.groupby('Test preparation').mean()['Total Marks'].sort_values()"
   ]
  },
  {
   "cell_type": "code",
   "execution_count": 24,
   "id": "a3d9fe33",
   "metadata": {},
   "outputs": [
    {
     "data": {
      "text/html": [
       "<div>\n",
       "<style scoped>\n",
       "    .dataframe tbody tr th:only-of-type {\n",
       "        vertical-align: middle;\n",
       "    }\n",
       "\n",
       "    .dataframe tbody tr th {\n",
       "        vertical-align: top;\n",
       "    }\n",
       "\n",
       "    .dataframe thead th {\n",
       "        text-align: right;\n",
       "    }\n",
       "</style>\n",
       "<table border=\"1\" class=\"dataframe\">\n",
       "  <thead>\n",
       "    <tr style=\"text-align: right;\">\n",
       "      <th></th>\n",
       "      <th></th>\n",
       "      <th>Total Marks</th>\n",
       "    </tr>\n",
       "    <tr>\n",
       "      <th>Test preparation</th>\n",
       "      <th>Gender</th>\n",
       "      <th></th>\n",
       "    </tr>\n",
       "  </thead>\n",
       "  <tbody>\n",
       "    <tr>\n",
       "      <th rowspan=\"2\" valign=\"top\">completed</th>\n",
       "      <th>female</th>\n",
       "      <td>45.250000</td>\n",
       "    </tr>\n",
       "    <tr>\n",
       "      <th>male</th>\n",
       "      <td>43.666667</td>\n",
       "    </tr>\n",
       "    <tr>\n",
       "      <th rowspan=\"2\" valign=\"top\">none</th>\n",
       "      <th>female</th>\n",
       "      <td>29.916667</td>\n",
       "    </tr>\n",
       "    <tr>\n",
       "      <th>male</th>\n",
       "      <td>26.000000</td>\n",
       "    </tr>\n",
       "  </tbody>\n",
       "</table>\n",
       "</div>"
      ],
      "text/plain": [
       "                         Total Marks\n",
       "Test preparation Gender             \n",
       "completed        female    45.250000\n",
       "                 male      43.666667\n",
       "none             female    29.916667\n",
       "                 male      26.000000"
      ]
     },
     "execution_count": 24,
     "metadata": {},
     "output_type": "execute_result"
    }
   ],
   "source": [
    "#average of total marks gender wise  w.r.t Test preparation\n",
    "data[['Test preparation','Gender',\n",
    "      'Total Marks',\n",
    "      ]].groupby(['Test preparation','Gender']).mean()"
   ]
  },
  {
   "cell_type": "code",
   "execution_count": 25,
   "id": "d213a570",
   "metadata": {},
   "outputs": [
    {
     "data": {
      "image/png": "[encoded data removed]",
      "text/plain": [
       "<Figure size 432x288 with 1 Axes>"
      ]
     },
     "metadata": {
      "needs_background": "light"
     },
     "output_type": "display_data"
    }
   ],
   "source": [
    "data.groupby('Test preparation').mean()['Total Marks'].sort_values().plot(kind='barh')\n",
    "plt.title(\"Average Score of Students w.r.t Test preparation\",fontsize=10,)\n",
    "plt.xlabel(\"average\",fontsize=10)\n",
    "plt.ylabel(\" Test preparation\",fontsize=10)\n",
    "plt.show()"
   ]
  },
  {
   "cell_type": "markdown",
   "id": "2755b7d1",
   "metadata": {},
   "source": [
    "Insights :\n",
    "\n",
    "    The highest mark obtained is 50 and is secured by a female student who has completed the test preparation.\n",
    "    The proportion of females is slightly higher than the males.\n",
    "    The average mark obtained by females is slightly higher than males.\n",
    "    The students who has completed the preparation is seen to score higher marks.\n",
    "\n"
   ]
  },
  {
   "cell_type": "markdown",
   "id": "b8c69285",
   "metadata": {},
   "source": [
    "#### 2. Check whether female and male students scored the same marks."
   ]
  },
  {
   "cell_type": "markdown",
   "id": "da719260",
   "metadata": {},
   "source": [
    "Here, we are comparing the means of two samples taken from the two independant population - males and females."
   ]
  },
  {
   "cell_type": "markdown",
   "id": "0a4195bd",
   "metadata": {},
   "source": [
    "Hypothesis    "
   ]
  },
  {
   "cell_type": "markdown",
   "id": "f08b2ed2",
   "metadata": {},
   "source": [
    "             Null Hypothesis (H0)- female and male students scored the same marks\n",
    "\n",
    "             Alternate Hypothesis (H1) - female and male students doesn't scored the same marks\n"
   ]
  },
  {
   "cell_type": "markdown",
   "id": "438f120e",
   "metadata": {},
   "source": [
    "From the alternate hypothesis(H0≠H1), we get that it is a 2-tailed t-test\n",
    "\n",
    "Also sample is less than 30\n",
    "\n",
    "so Test we use is - Two tailed two sample T-Test\n",
    "\n",
    "So, we find the test statistic t and p value If the p value is less than the siginificance level of alpha= 0.05, then we reject the null hypothesis H0."
   ]
  },
  {
   "cell_type": "markdown",
   "id": "9c8b68e1",
   "metadata": {},
   "source": [
    "Significance level=0.05"
   ]
  },
  {
   "cell_type": "code",
   "execution_count": 27,
   "id": "c4e0aad4",
   "metadata": {},
   "outputs": [
    {
     "data": {
      "text/html": [
       "<div>\n",
       "<style scoped>\n",
       "    .dataframe tbody tr th:only-of-type {\n",
       "        vertical-align: middle;\n",
       "    }\n",
       "\n",
       "    .dataframe tbody tr th {\n",
       "        vertical-align: top;\n",
       "    }\n",
       "\n",
       "    .dataframe thead th {\n",
       "        text-align: right;\n",
       "    }\n",
       "</style>\n",
       "<table border=\"1\" class=\"dataframe\">\n",
       "  <thead>\n",
       "    <tr style=\"text-align: right;\">\n",
       "      <th></th>\n",
       "      <th>Total Marks</th>\n",
       "    </tr>\n",
       "    <tr>\n",
       "      <th>Gender</th>\n",
       "      <th></th>\n",
       "    </tr>\n",
       "  </thead>\n",
       "  <tbody>\n",
       "    <tr>\n",
       "      <th>female</th>\n",
       "      <td>33.750000</td>\n",
       "    </tr>\n",
       "    <tr>\n",
       "      <th>male</th>\n",
       "      <td>30.416667</td>\n",
       "    </tr>\n",
       "  </tbody>\n",
       "</table>\n",
       "</div>"
      ],
      "text/plain": [
       "        Total Marks\n",
       "Gender             \n",
       "female    33.750000\n",
       "male      30.416667"
      ]
     },
     "execution_count": 27,
     "metadata": {},
     "output_type": "execute_result"
    }
   ],
   "source": [
    "data.groupby('Gender').mean()"
   ]
  },
  {
   "cell_type": "code",
   "execution_count": 28,
   "id": "ceab2bac",
   "metadata": {},
   "outputs": [],
   "source": [
    "male = data[data['Gender']=='male']\n",
    "female = data[data['Gender']=='female']"
   ]
  },
  {
   "cell_type": "code",
   "execution_count": 35,
   "id": "9b15d824",
   "metadata": {},
   "outputs": [
    {
     "name": "stdout",
     "output_type": "stream",
     "text": [
      "t-value: 0.6940885268848668 p-value: 0.4937822317960763\n"
     ]
    }
   ],
   "source": [
    "# T-Test\n",
    "from scipy.stats import ttest_ind\n",
    "ttest,pval = ttest_ind(female['Total Marks'],male['Total Marks'])\n",
    "print('t-value:',ttest,'p-value:',pval)"
   ]
  },
  {
   "cell_type": "code",
   "execution_count": 36,
   "id": "9f982eca",
   "metadata": {},
   "outputs": [
    {
     "name": "stdout",
     "output_type": "stream",
     "text": [
      "we accept null hypothesis\n"
     ]
    }
   ],
   "source": [
    "if pval <0.05:\n",
    "  print(\"we reject null hypothesis\")\n",
    "else:\n",
    "  print(\"we accept null hypothesis\")"
   ]
  },
  {
   "cell_type": "markdown",
   "id": "1f3369f3",
   "metadata": {},
   "source": [
    "**Conclusion :**"
   ]
  },
  {
   "cell_type": "markdown",
   "id": "4aadd54b",
   "metadata": {},
   "source": [
    "p value = 0.4937822317960763  is greater than the significance level alpha=0.05\n",
    "\n",
    "Null hypothesis is proved\n",
    "\n",
    "i.e \n",
    "\n",
    "**the scores of males and females are the same**"
   ]
  },
  {
   "cell_type": "markdown",
   "id": "4fe71bc2",
   "metadata": {},
   "source": [
    "#### 3. Whether test preparation helps the students?"
   ]
  },
  {
   "cell_type": "markdown",
   "id": "e8ad5ead",
   "metadata": {},
   "source": [
    "Here, we are testing the means of same group at different times so independant sample t-test is used.\n",
    "\n",
    "        the null hypothesis      H0: Test preparation does not help\n",
    "\n",
    "        the alternate hypothesis H1: Test preparation help (i.e,the total marks obtained after preparation is\n",
    "                                                                 more than the marks obtained before it).\n"
   ]
  },
  {
   "cell_type": "markdown",
   "id": "9abb3efc",
   "metadata": {},
   "source": [
    "The alternate hypothesis states that it is a 1-tailed test"
   ]
  },
  {
   "cell_type": "markdown",
   "id": "ceb3766a",
   "metadata": {},
   "source": [
    "Significance level=0.05"
   ]
  },
  {
   "cell_type": "code",
   "execution_count": 39,
   "id": "ab32582b",
   "metadata": {},
   "outputs": [
    {
     "name": "stdout",
     "output_type": "stream",
     "text": [
      "t-value: 3.6143637527769217 p-value: 0.0006335646228660053\n"
     ]
    }
   ],
   "source": [
    "# One Tailed T-Test\n",
    "prepared=data[data['Test preparation']=='completed']['Total Marks']\n",
    "unprepared=data[data['Test preparation']=='none']['Total Marks']\n",
    "t_test,p_val=scipy.stats.ttest_ind(prepared,unprepared,alternative='greater')\n",
    "print('t-value:',t_test,'p-value:',p_val)"
   ]
  },
  {
   "cell_type": "code",
   "execution_count": 40,
   "id": "a89a916d",
   "metadata": {},
   "outputs": [
    {
     "name": "stdout",
     "output_type": "stream",
     "text": [
      "we reject null hypothesis\n"
     ]
    }
   ],
   "source": [
    "if p_val <0.05:\n",
    "  print(\"we reject null hypothesis\")\n",
    "else:\n",
    "  print(\"we accept null hypothesis\")"
   ]
  },
  {
   "cell_type": "markdown",
   "id": "7af47c55",
   "metadata": {},
   "source": [
    "**Conclusion :**\n",
    "\n",
    "p value=0.0006335646228660053 which is less than the significance level alpha=0.05. So we reject the null hypothesis H0. \n",
    "\n",
    "i.e\n",
    "\n",
    "**The test preparation helps the students gain higher marks.**\n",
    "\n"
   ]
  },
  {
   "cell_type": "markdown",
   "id": "1c1314ad",
   "metadata": {},
   "source": [
    "___________"
   ]
  },
  {
   "cell_type": "markdown",
   "id": "a672760e",
   "metadata": {},
   "source": [
    "`submitted by -\n",
    "(Group  11)\n",
    "Shilpa Shibu\n",
    "Sreelekshmi M K\n",
    "Roopa Thomas\n",
    "Kevin M`"
   ]
  },
  {
   "cell_type": "code",
   "execution_count": null,
   "id": "2029f01a",
   "metadata": {},
   "outputs": [],
   "source": []
  }
 ],
 "metadata": {
  "kernelspec": {
   "display_name": "Python 3",
   "language": "python",
   "name": "python3"
  },
  "language_info": {
   "codemirror_mode": {
    "name": "ipython",
    "version": 3
   },
   "file_extension": ".py",
   "mimetype": "text/x-python",
   "name": "python",
   "nbconvert_exporter": "python",
   "pygments_lexer": "ipython3",
   "version": "3.8.8"
  }
 },
 "nbformat": 4,
 "nbformat_minor": 5
}
