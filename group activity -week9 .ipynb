{
 "cells": [
  {
   "cell_type": "markdown",
   "id": "58bbda72",
   "metadata": {},
   "source": [
    "# Q&A Activity Question Week -09\n",
    "Do the following on the dataset\n",
    "1. Explain the dataset\n",
    "2. Check the summary statistics and discuss the max, min, avg, median,\n",
    "and percentiles.\n",
    "3. The manager wants to find out whether the same amount was spent\n",
    "for the three advertisements (TV , Radio and Newspaper). Comment\n",
    "on your findings."
   ]
  },
  {
   "cell_type": "code",
   "execution_count": 1,
   "id": "1c1ae37c",
   "metadata": {},
   "outputs": [],
   "source": [
    "#importing pandas,numply,matplotlib.pyplot,seaborn libaries\n",
    "import pandas as pd\n",
    "import numpy as np\n",
    "import matplotlib.pyplot as plt\n",
    "import seaborn as sns"
   ]
  },
  {
   "cell_type": "code",
   "execution_count": 2,
   "id": "95e9c7ef",
   "metadata": {},
   "outputs": [],
   "source": [
    "#Reading the dataset to the python environment\n",
    "data=pd.read_csv('Advertising.csv')"
   ]
  },
  {
   "cell_type": "code",
   "execution_count": 3,
   "id": "73516f16",
   "metadata": {},
   "outputs": [
    {
     "data": {
      "text/html": [
       "<div>\n",
       "<style scoped>\n",
       "    .dataframe tbody tr th:only-of-type {\n",
       "        vertical-align: middle;\n",
       "    }\n",
       "\n",
       "    .dataframe tbody tr th {\n",
       "        vertical-align: top;\n",
       "    }\n",
       "\n",
       "    .dataframe thead th {\n",
       "        text-align: right;\n",
       "    }\n",
       "</style>\n",
       "<table border=\"1\" class=\"dataframe\">\n",
       "  <thead>\n",
       "    <tr style=\"text-align: right;\">\n",
       "      <th></th>\n",
       "      <th>Unnamed: 0</th>\n",
       "      <th>TV</th>\n",
       "      <th>Radio</th>\n",
       "      <th>Newspaper</th>\n",
       "      <th>Sales</th>\n",
       "    </tr>\n",
       "  </thead>\n",
       "  <tbody>\n",
       "    <tr>\n",
       "      <th>0</th>\n",
       "      <td>1</td>\n",
       "      <td>230.1</td>\n",
       "      <td>37.8</td>\n",
       "      <td>69.2</td>\n",
       "      <td>22.1</td>\n",
       "    </tr>\n",
       "    <tr>\n",
       "      <th>1</th>\n",
       "      <td>2</td>\n",
       "      <td>44.5</td>\n",
       "      <td>39.3</td>\n",
       "      <td>45.1</td>\n",
       "      <td>10.4</td>\n",
       "    </tr>\n",
       "    <tr>\n",
       "      <th>2</th>\n",
       "      <td>3</td>\n",
       "      <td>17.2</td>\n",
       "      <td>45.9</td>\n",
       "      <td>69.3</td>\n",
       "      <td>9.3</td>\n",
       "    </tr>\n",
       "    <tr>\n",
       "      <th>3</th>\n",
       "      <td>4</td>\n",
       "      <td>151.5</td>\n",
       "      <td>41.3</td>\n",
       "      <td>58.5</td>\n",
       "      <td>18.5</td>\n",
       "    </tr>\n",
       "    <tr>\n",
       "      <th>4</th>\n",
       "      <td>5</td>\n",
       "      <td>180.8</td>\n",
       "      <td>10.8</td>\n",
       "      <td>58.4</td>\n",
       "      <td>12.9</td>\n",
       "    </tr>\n",
       "  </tbody>\n",
       "</table>\n",
       "</div>"
      ],
      "text/plain": [
       "   Unnamed: 0     TV  Radio  Newspaper  Sales\n",
       "0           1  230.1   37.8       69.2   22.1\n",
       "1           2   44.5   39.3       45.1   10.4\n",
       "2           3   17.2   45.9       69.3    9.3\n",
       "3           4  151.5   41.3       58.5   18.5\n",
       "4           5  180.8   10.8       58.4   12.9"
      ]
     },
     "execution_count": 3,
     "metadata": {},
     "output_type": "execute_result"
    }
   ],
   "source": [
    "#displaying  top 5  rows of the dataset\n",
    "data.head()"
   ]
  },
  {
   "cell_type": "code",
   "execution_count": 4,
   "id": "3c26ab5b",
   "metadata": {},
   "outputs": [],
   "source": [
    "#removing Unnamed: 0 column\n",
    "data1 = data.drop('Unnamed: 0', axis=1)"
   ]
  },
  {
   "cell_type": "markdown",
   "id": "7d332bf8",
   "metadata": {},
   "source": [
    "### 1.Explain the dataset"
   ]
  },
  {
   "cell_type": "code",
   "execution_count": 5,
   "id": "3055f48d",
   "metadata": {},
   "outputs": [
    {
     "name": "stdout",
     "output_type": "stream",
     "text": [
      "<class 'pandas.core.frame.DataFrame'>\n",
      "RangeIndex: 200 entries, 0 to 199\n",
      "Data columns (total 5 columns):\n",
      " #   Column      Non-Null Count  Dtype  \n",
      "---  ------      --------------  -----  \n",
      " 0   Unnamed: 0  200 non-null    int64  \n",
      " 1   TV          200 non-null    float64\n",
      " 2   Radio       200 non-null    float64\n",
      " 3   Newspaper   200 non-null    float64\n",
      " 4   Sales       200 non-null    float64\n",
      "dtypes: float64(4), int64(1)\n",
      "memory usage: 7.9 KB\n"
     ]
    }
   ],
   "source": [
    "#To know data types of each columns and checking for null values in the columns\n",
    "data.info()"
   ]
  },
  {
   "cell_type": "markdown",
   "id": "90fdc720",
   "metadata": {},
   "source": [
    "About our data-\n",
    "\n",
    "Sample size is 200<br>\n",
    "Amounts spent on the advertisements through TV, Radio, Newspaper and the sales obtained are given.<br> \n",
    "our numeric data are  detected as float values.\n"
   ]
  },
  {
   "cell_type": "code",
   "execution_count": 6,
   "id": "d5411b63",
   "metadata": {},
   "outputs": [
    {
     "data": {
      "text/plain": [
       "Unnamed: 0    0\n",
       "TV            0\n",
       "Radio         0\n",
       "Newspaper     0\n",
       "Sales         0\n",
       "dtype: int64"
      ]
     },
     "execution_count": 6,
     "metadata": {},
     "output_type": "execute_result"
    }
   ],
   "source": [
    "#Check for the null values present in each column of  dataset using 'isnull().sum()' function\n",
    "data.isnull().sum()"
   ]
  },
  {
   "cell_type": "markdown",
   "id": "ba270664",
   "metadata": {},
   "source": [
    "Find-\n",
    "\n",
    "No Null values\n"
   ]
  },
  {
   "cell_type": "code",
   "execution_count": 7,
   "id": "c717dc2a",
   "metadata": {},
   "outputs": [
    {
     "data": {
      "text/plain": [
       "Text(0.5, 1.0, 'Distribution of Sales')"
      ]
     },
     "execution_count": 7,
     "metadata": {},
     "output_type": "execute_result"
    },
    {
     "data": {
      "image/png": "[encoded data removed]",
      "text/plain": [
       "<Figure size 864x576 with 4 Axes>"
      ]
     },
     "metadata": {
      "needs_background": "light"
     },
     "output_type": "display_data"
    }
   ],
   "source": [
    "#visualization using histogram\n",
    "fig, axes = plt.subplots( figsize=(12, 8))\n",
    "plt.subplot(2,2,1)\n",
    "plt.hist(data['TV'],rwidth=0.9)\n",
    "plt.title('Distribution of TV')\n",
    "plt.subplot(2,2,2)\n",
    "plt.hist(data['Radio'],rwidth=0.9)\n",
    "plt.title('Distribution of Radio')\n",
    "plt.subplot(2,2,3)\n",
    "plt.hist(data['Newspaper'], rwidth=0.9)\n",
    "plt.title('Distribution of Newspaper')\n",
    "plt.subplot(2,2,4)\n",
    "plt.hist(data['Sales'], rwidth=0.9)\n",
    "plt.title('Distribution of Sales')"
   ]
  },
  {
   "cell_type": "markdown",
   "id": "e8472dbd",
   "metadata": {},
   "source": [
    "Insight :\n",
    "\n",
    "The Sales distribution is normally distributed while the amount spent on Newspaper is right skewed. \n"
   ]
  },
  {
   "cell_type": "markdown",
   "id": "34f81e79",
   "metadata": {},
   "source": [
    "### 2. Check the summary statistics and discuss the max, min, avg, median,and percentiles."
   ]
  },
  {
   "cell_type": "code",
   "execution_count": 8,
   "id": "611540dc",
   "metadata": {},
   "outputs": [
    {
     "data": {
      "text/html": [
       "<div>\n",
       "<style scoped>\n",
       "    .dataframe tbody tr th:only-of-type {\n",
       "        vertical-align: middle;\n",
       "    }\n",
       "\n",
       "    .dataframe tbody tr th {\n",
       "        vertical-align: top;\n",
       "    }\n",
       "\n",
       "    .dataframe thead th {\n",
       "        text-align: right;\n",
       "    }\n",
       "</style>\n",
       "<table border=\"1\" class=\"dataframe\">\n",
       "  <thead>\n",
       "    <tr style=\"text-align: right;\">\n",
       "      <th></th>\n",
       "      <th>TV</th>\n",
       "      <th>Radio</th>\n",
       "      <th>Newspaper</th>\n",
       "      <th>Sales</th>\n",
       "    </tr>\n",
       "  </thead>\n",
       "  <tbody>\n",
       "    <tr>\n",
       "      <th>count</th>\n",
       "      <td>200.000000</td>\n",
       "      <td>200.000000</td>\n",
       "      <td>200.000000</td>\n",
       "      <td>200.000000</td>\n",
       "    </tr>\n",
       "    <tr>\n",
       "      <th>mean</th>\n",
       "      <td>147.042500</td>\n",
       "      <td>23.264000</td>\n",
       "      <td>30.554000</td>\n",
       "      <td>14.022500</td>\n",
       "    </tr>\n",
       "    <tr>\n",
       "      <th>std</th>\n",
       "      <td>85.854236</td>\n",
       "      <td>14.846809</td>\n",
       "      <td>21.778621</td>\n",
       "      <td>5.217457</td>\n",
       "    </tr>\n",
       "    <tr>\n",
       "      <th>min</th>\n",
       "      <td>0.700000</td>\n",
       "      <td>0.000000</td>\n",
       "      <td>0.300000</td>\n",
       "      <td>1.600000</td>\n",
       "    </tr>\n",
       "    <tr>\n",
       "      <th>25%</th>\n",
       "      <td>74.375000</td>\n",
       "      <td>9.975000</td>\n",
       "      <td>12.750000</td>\n",
       "      <td>10.375000</td>\n",
       "    </tr>\n",
       "    <tr>\n",
       "      <th>50%</th>\n",
       "      <td>149.750000</td>\n",
       "      <td>22.900000</td>\n",
       "      <td>25.750000</td>\n",
       "      <td>12.900000</td>\n",
       "    </tr>\n",
       "    <tr>\n",
       "      <th>75%</th>\n",
       "      <td>218.825000</td>\n",
       "      <td>36.525000</td>\n",
       "      <td>45.100000</td>\n",
       "      <td>17.400000</td>\n",
       "    </tr>\n",
       "    <tr>\n",
       "      <th>max</th>\n",
       "      <td>296.400000</td>\n",
       "      <td>49.600000</td>\n",
       "      <td>114.000000</td>\n",
       "      <td>27.000000</td>\n",
       "    </tr>\n",
       "  </tbody>\n",
       "</table>\n",
       "</div>"
      ],
      "text/plain": [
       "               TV       Radio   Newspaper       Sales\n",
       "count  200.000000  200.000000  200.000000  200.000000\n",
       "mean   147.042500   23.264000   30.554000   14.022500\n",
       "std     85.854236   14.846809   21.778621    5.217457\n",
       "min      0.700000    0.000000    0.300000    1.600000\n",
       "25%     74.375000    9.975000   12.750000   10.375000\n",
       "50%    149.750000   22.900000   25.750000   12.900000\n",
       "75%    218.825000   36.525000   45.100000   17.400000\n",
       "max    296.400000   49.600000  114.000000   27.000000"
      ]
     },
     "execution_count": 8,
     "metadata": {},
     "output_type": "execute_result"
    }
   ],
   "source": [
    "# to know  statistical summary of integer datatype columns \n",
    "data1.describe()"
   ]
  },
  {
   "cell_type": "markdown",
   "id": "50988f7a",
   "metadata": {},
   "source": [
    "### Insights :  \n",
    "\n",
    "**1.Maximum**<br>\n",
    "- Maximum amount spent for adverstiement  is through TV (296.400000)<br>\n",
    "- Maximum amount generated for sales through these 3 set of adverstiements is 27.00\n",
    "\n",
    "**2.Minimum**<br>\n",
    "- The least amount spent was for advertisements through Radio of nearly zero.<br>\n",
    "- Lowest amount generated for sales through these 3 set of adverstiements is 1.60\n",
    "\n",
    "**3.Average**<br>\n",
    "- The average amount spent is the highest for TV ads followed by Newspaper and Radio ads.<br>\n",
    "- Average amount for sales is 14.02\n",
    "\n",
    "**4.Median**<br>\n",
    "- Median or 50% amount spent for<br> TV -149.750000 <br>Radio -22.900000,<br>Newspaper -25.750000\n",
    "\n",
    "**5.Percentiles**\n",
    "\n",
    "- 75% of time,amount spent for TV ads is more than 74.375, , for Newspaper it was more than 12.750 & for Radio-9.97500<br>\n",
    "- 25% of time ,amount spent for TV ads is more than 218.825, followed by Newsaper of 45.100 & for Radio-36.525000<br><br>\n",
    "\n",
    "- 75% of time,amount for sales generated is more than 10.375000\n",
    "- 25% of time ,amount or sales generated is more than 17.400000"
   ]
  },
  {
   "cell_type": "markdown",
   "id": "96e19332",
   "metadata": {},
   "source": [
    "### 3. The manager wants to find out whether the same amount was spent for the three advertisements (TV , Radio and Newspaper). Comment on your findings."
   ]
  },
  {
   "cell_type": "markdown",
   "id": "86b7aed7",
   "metadata": {},
   "source": [
    "Null Hypothesis (H0): amount  spent for the three advertisements are equal \n",
    "\n",
    "Alternate Hypothesis (H1):  amount  spent for the three advertisements are not equal \n"
   ]
  },
  {
   "cell_type": "markdown",
   "id": "f05babd7",
   "metadata": {},
   "source": [
    "Significance level,α= 0.05"
   ]
  },
  {
   "cell_type": "code",
   "execution_count": 9,
   "id": "89baa6e6",
   "metadata": {},
   "outputs": [
    {
     "name": "stdout",
     "output_type": "stream",
     "text": [
      "F test statistic: 358.8515 p-value: 0.0\n"
     ]
    }
   ],
   "source": [
    "#One-way ANOVA Test\n",
    "from scipy import stats\n",
    "\n",
    "F, p = stats.f_oneway(data['TV'], data['Radio'], data['Newspaper'])\n",
    "print('F test statistic:',round(F,4),'p-value:',round(p,4))"
   ]
  },
  {
   "cell_type": "code",
   "execution_count": 10,
   "id": "00e7cc3d",
   "metadata": {},
   "outputs": [
    {
     "name": "stdout",
     "output_type": "stream",
     "text": [
      "Reject Null Hypothesis\n"
     ]
    }
   ],
   "source": [
    "if p >= 0.05:\n",
    "    print('Accept Null Hypothesis ')\n",
    "else :\n",
    "    print ('Reject Null Hypothesis')"
   ]
  },
  {
   "cell_type": "markdown",
   "id": "f3276ac2",
   "metadata": {},
   "source": [
    "Find:\n",
    "\n",
    "From the One-way ANOVA Test. performed,\n",
    "\n",
    "p-value(=0.00) < alpha(=0.05)\n",
    "\n",
    "We reject the null hypothesis H0.\n",
    "\n",
    "i.e, amount spent was not same for the three advertisements.."
   ]
  },
  {
   "cell_type": "markdown",
   "id": "188a9f30",
   "metadata": {},
   "source": [
    "`submitted by -\n",
    "(Group  11)\n",
    "Shilpa Shibu\n",
    "Sreelekshmi M K\n",
    "Roopa Thomas\n",
    "Kevin M`"
   ]
  }
 ],
 "metadata": {
  "kernelspec": {
   "display_name": "Python 3",
   "language": "python",
   "name": "python3"
  },
  "language_info": {
   "codemirror_mode": {
    "name": "ipython",
    "version": 3
   },
   "file_extension": ".py",
   "mimetype": "text/x-python",
   "name": "python",
   "nbconvert_exporter": "python",
   "pygments_lexer": "ipython3",
   "version": "3.8.8"
  }
 },
 "nbformat": 4,
 "nbformat_minor": 5
}
